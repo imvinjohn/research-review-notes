{
 "cells": [
  {
   "cell_type": "markdown",
   "metadata": {},
   "source": [
    "# InfoGAN: Interpretable Representation Learning by Information Maximizing Generative Adversarial Nets"
   ]
  },
  {
   "cell_type": "markdown",
   "metadata": {},
   "source": [
    "## Idea"
   ]
  },
  {
   "cell_type": "markdown",
   "metadata": {},
   "source": [
    "The motivation behind this work is to be able to learn interpretable distentangled representation from the latent space that otherwise would not exhibit these properties. This is acheived by maximizing the mutual information between a subset of the latent variables and the observable (known) variable."
   ]
  },
  {
   "cell_type": "markdown",
   "metadata": {},
   "source": [
    "## Background"
   ]
  },
  {
   "cell_type": "markdown",
   "metadata": {},
   "source": [
    "* Representation learning learns a dense embedding of the entities in our dataset which can then be used for downstream tasks. It is an unsupervised form of feature extraction.\n",
    "* Typically, generative models i.e. decoders that are capable of producing a reasonably good approximation for the distribution of the source data, are good indicators of a well-learned representation. eg. [GANs](http://papers.nips.cc/paper/5423-generative-adversarial-nets) and [VAEs](https://arxiv.org/abs/1312.6114).\n",
    "* This paper builds off the idea of GANs. The min-max game played by the generator and discriminator in GANs is given by the equation below:\n",
    "$$min_G max_D V(D, G) = \\mathop{\\mathbb{E}}_{x \\sim P_{data}}[log D(x)] + \\mathop{\\mathbb{E}}_{z \\sim noise} [log(1 - D(G(z)))]$$\n",
    "* The first term is the expected number of times the discriminator successfully indentifies the true data distribution and the second term is the expected number of times the discriminitor successfully identifies the data generated from noise sampling. From the perspective of the discriminator, ideally $D(\\cdot) = 1$ if the data point is from the true distribution and $D(\\cdot) =  0$ if the data point is from the sampled distribution."
   ]
  },
  {
   "cell_type": "markdown",
   "metadata": {},
   "source": [
    "## Method"
   ]
  },
  {
   "cell_type": "markdown",
   "metadata": {},
   "source": []
  },
  {
   "cell_type": "markdown",
   "metadata": {},
   "source": [
    "## Observations"
   ]
  },
  {
   "cell_type": "markdown",
   "metadata": {},
   "source": []
  }
 ],
 "metadata": {
  "kernelspec": {
   "display_name": ".pyenv",
   "language": "python",
   "name": ".pyenv"
  },
  "language_info": {
   "codemirror_mode": {
    "name": "ipython",
    "version": 3
   },
   "file_extension": ".py",
   "mimetype": "text/x-python",
   "name": "python",
   "nbconvert_exporter": "python",
   "pygments_lexer": "ipython3",
   "version": "3.6.4"
  }
 },
 "nbformat": 4,
 "nbformat_minor": 2
}
