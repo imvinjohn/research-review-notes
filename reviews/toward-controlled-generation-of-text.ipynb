{
 "cells": [
  {
   "cell_type": "markdown",
   "metadata": {},
   "source": [
    "# Toward Controlled Generation of Text"
   ]
  },
  {
   "cell_type": "markdown",
   "metadata": {},
   "source": [
    "## Idea\n",
    "The authors aim to disentangle representations of style and content in the latent code of an Adversarial Variational AutoEncoder. The style is called the 'structured code' and is learned by discriminators for each code attribute that needs to be disentangled from the latent space."
   ]
  },
  {
   "cell_type": "markdown",
   "metadata": {},
   "source": [
    "## Method\n",
    "* This method does not use adversarial training.\n",
    "* The authors describe 3 separate losses to train their model.\n",
    "    * A reconstruction loss that ensures that the generated sentence $\\hat{x}$ is the same as the original sentence $x$\n",
    "    * A discriminator that classifies $\\hat{x}$ and validates if the predicted class is the same as the corresponding labels for $x$"
   ]
  },
  {
   "cell_type": "markdown",
   "metadata": {},
   "source": [
    "## Observations"
   ]
  }
 ],
 "metadata": {
  "kernelspec": {
   "display_name": "Python 3",
   "language": "python",
   "name": "python3"
  },
  "language_info": {
   "codemirror_mode": {
    "name": "ipython",
    "version": 3
   },
   "file_extension": ".py",
   "mimetype": "text/x-python",
   "name": "python",
   "nbconvert_exporter": "python",
   "pygments_lexer": "ipython3",
   "version": "3.6.4"
  }
 },
 "nbformat": 4,
 "nbformat_minor": 2
}
