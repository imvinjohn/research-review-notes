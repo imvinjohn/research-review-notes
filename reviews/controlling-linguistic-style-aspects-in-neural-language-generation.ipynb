{
 "cells": [
  {
   "cell_type": "markdown",
   "metadata": {},
   "source": [
    "# Controlling Linguistic Style Aspects in Neural Language Generation"
   ]
  },
  {
   "cell_type": "markdown",
   "metadata": {},
   "source": [
    "## Idea"
   ]
  },
  {
   "cell_type": "markdown",
   "metadata": {},
   "source": [
    "The authors control multiple aspects of the text i.e. content and style via attribute vectors and generate modified bodies of text using a conditioned neural language model."
   ]
  },
  {
   "cell_type": "markdown",
   "metadata": {},
   "source": [
    "## Background"
   ]
  },
  {
   "cell_type": "markdown",
   "metadata": {},
   "source": [
    "As opposed to the method used in [Toward Controlled Generation of Text](https://arxiv.org/abs/1703.00955), this one doesn't use variational auto-encoders."
   ]
  },
  {
   "cell_type": "markdown",
   "metadata": {},
   "source": [
    "## Method"
   ]
  },
  {
   "cell_type": "markdown",
   "metadata": {},
   "source": [
    "* The authors rely on a conditioned LSTM-based neural language model to generate sentences with modified content and style. A movie review dataset from Rotten Tomatoes is used for the task.\n",
    "* Multiple style and content attributes can be manipulated and used for training/generation at the same time i.e. combinations of the attributes can also be used.\n",
    "* The labels attributed to the training set are known entities.\n",
    "* Simple rules, heuristics and lexicons are used to derive some of the labels that the training data is annotated with.\n",
    "* The system of multi-label conditioning is compared to dedicated language models for each attribute.\n",
    "* A few of the metrics like sentiment and professional reviews are evaluated using human annotations."
   ]
  },
  {
   "cell_type": "markdown",
   "metadata": {},
   "source": [
    "## Observations"
   ]
  },
  {
   "cell_type": "markdown",
   "metadata": {},
   "source": [
    "* The dedicated language models work better than the single conditioned language models but it doesn't scale to multiple attributes, which the authors cite as a desirable property to have.\n",
    "* The authors state the sentiment was difficult to model since the perplexity of sentence conditioned with sentiment is lesser compared to conditioned sentences of other attributes. This could also be attributed to the fact that it takes lesser changes to model sentiment than it does to model the other attributes.\n",
    "* Although the authors use manual annotation to label the sentiment of the generated sentences, a good generalizable sentiment analysis classifier might have been quicker."
   ]
  }
 ],
 "metadata": {
  "kernelspec": {
   "display_name": ".pyenv",
   "language": "python",
   "name": ".pyenv"
  },
  "language_info": {
   "codemirror_mode": {
    "name": "ipython",
    "version": 3
   },
   "file_extension": ".py",
   "mimetype": "text/x-python",
   "name": "python",
   "nbconvert_exporter": "python",
   "pygments_lexer": "ipython3",
   "version": "3.6.4"
  }
 },
 "nbformat": 4,
 "nbformat_minor": 2
}
