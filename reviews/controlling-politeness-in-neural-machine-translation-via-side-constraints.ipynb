{
 "cells": [
  {
   "cell_type": "markdown",
   "metadata": {},
   "source": [
    "# Controlling Politeness in Neural Machine Translation via Side Constraints"
   ]
  },
  {
   "cell_type": "markdown",
   "metadata": {},
   "source": [
    "## Idea"
   ]
  },
  {
   "cell_type": "markdown",
   "metadata": {},
   "source": [
    "The authors intend to control politeness while translating one language to another by using honorifics. The politeness is not grammatically implied in the source text, but should be predicted in the target text."
   ]
  },
  {
   "cell_type": "markdown",
   "metadata": {},
   "source": [
    "## Background"
   ]
  },
  {
   "cell_type": "markdown",
   "metadata": {},
   "source": [
    "The method relies on the [attention model](https://arxiv.org/abs/1409.0473) for neural translation. Each word $y_i$ is predicted based on 3 variables: the recurrent state $s_i$, the previously predict word $y_{i - 1}$ and the context vector $c_i$.\n",
    "\n",
    "The model relies on a GRU-backed bidirectoral sequence autoencoder and the hidden state from both directions are combined to form the annotation vector. The weight of each of these annotation vectors is computed via a single layer feedforward neural network. The weights are computed through an alignment model $\\alpha_{ij}$, which models the probability that $x_j$ is aligned with $y_i$.\n",
    "\n",
    "A beam search decoder is used for the generation phase."
   ]
  },
  {
   "cell_type": "markdown",
   "metadata": {},
   "source": [
    "## Method"
   ]
  },
  {
   "cell_type": "markdown",
   "metadata": {},
   "source": []
  },
  {
   "cell_type": "markdown",
   "metadata": {},
   "source": [
    "## Observations"
   ]
  },
  {
   "cell_type": "markdown",
   "metadata": {},
   "source": []
  }
 ],
 "metadata": {
  "kernelspec": {
   "display_name": ".pyenv",
   "language": "python",
   "name": ".pyenv"
  },
  "language_info": {
   "codemirror_mode": {
    "name": "ipython",
    "version": 3
   },
   "file_extension": ".py",
   "mimetype": "text/x-python",
   "name": "python",
   "nbconvert_exporter": "python",
   "pygments_lexer": "ipython3",
   "version": "3.6.4"
  }
 },
 "nbformat": 4,
 "nbformat_minor": 2
}
